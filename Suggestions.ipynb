{
 "cells": [
  {
   "cell_type": "code",
   "execution_count": 3,
   "id": "3a6775f1",
   "metadata": {},
   "outputs": [],
   "source": [
    "import numpy as np\n",
    "import pandas as pd\n",
    "import textdistance #how similar or dissimilar two pieces of text are based on different criteria.\n",
    "from collections import Counter\n",
    "import re"
   ]
  },
  {
   "cell_type": "code",
   "execution_count": 7,
   "id": "471925f3",
   "metadata": {},
   "outputs": [],
   "source": [
    "words = []\n",
    "with open('book.txt','r',encoding='utf-8') as f:\n",
    "    data = f.read()\n",
    "    data = data.lower()\n",
    "    word = re.findall(r'\\w+', data) #regex exp - ignores punctuation and extracts words\n",
    "    words +=word                    #stores the extracted words in the words list"
   ]
  },
  {
   "cell_type": "code",
   "execution_count": 6,
   "id": "c134a52a",
   "metadata": {},
   "outputs": [
    {
     "name": "stdout",
     "output_type": "stream",
     "text": [
      "['the', 'project', 'gutenberg', 'ebook', 'of', 'moby', 'dick', 'or', 'the', 'whale', 'by', 'herman', 'melville', 'this', 'ebook', 'is', 'for', 'the', 'use', 'of']\n"
     ]
    }
   ],
   "source": [
    "print(words[0:20])"
   ]
  },
  {
   "cell_type": "code",
   "execution_count": 9,
   "id": "91a95b0f",
   "metadata": {},
   "outputs": [],
   "source": [
    "#vocabulary - stores unique words\n",
    "V = set(words) "
   ]
  },
  {
   "cell_type": "code",
   "execution_count": 11,
   "id": "6abaaaa9",
   "metadata": {},
   "outputs": [
    {
     "data": {
      "text/plain": [
       "[('the', 14703),\n",
       " ('of', 6742),\n",
       " ('and', 6517),\n",
       " ('a', 4799),\n",
       " ('to', 4707),\n",
       " ('in', 4238),\n",
       " ('that', 3081),\n",
       " ('it', 2534),\n",
       " ('his', 2530),\n",
       " ('i', 2120)]"
      ]
     },
     "execution_count": 11,
     "metadata": {},
     "output_type": "execute_result"
    }
   ],
   "source": [
    "#dict of words and how frequently they occcur\n",
    "word_freq_dict = Counter(words) \n",
    "word_freq_dict.most_common(10)"
   ]
  },
  {
   "cell_type": "markdown",
   "id": "2495e2f3",
   "metadata": {},
   "source": [
    "# Probability(word) = Frequency(word) / Total count of all words"
   ]
  },
  {
   "cell_type": "code",
   "execution_count": 15,
   "id": "7dc30579",
   "metadata": {},
   "outputs": [],
   "source": [
    "Total_words_freq = sum(word_freq_dict.values())\n",
    "\n",
    "prob = {}\n",
    "for k in word_freq_dict.keys():\n",
    "    prob[k] = word_freq_dict[k] / Total_words_freq"
   ]
  },
  {
   "cell_type": "code",
   "execution_count": 14,
   "id": "e5673df8",
   "metadata": {},
   "outputs": [
    {
     "name": "stdout",
     "output_type": "stream",
     "text": [
      "the: 0.066033\n",
      "project: 0.000409\n",
      "gutenberg: 0.000422\n",
      "ebook: 0.000045\n",
      "of: 0.030279\n",
      "moby: 0.000404\n",
      "dick: 0.000404\n",
      "or: 0.003579\n",
      "whale: 0.005524\n",
      "by: 0.005488\n"
     ]
    }
   ],
   "source": [
    "# Display probabilities of first 10 words\n",
    "for i, (word, p) in enumerate(prob.items()):\n",
    "    if i == 10:\n",
    "        break\n",
    "    print(f\"{word}: {p:.6f}\")"
   ]
  },
  {
   "cell_type": "code",
   "execution_count": 18,
   "id": "fbe938b9",
   "metadata": {},
   "outputs": [
    {
     "data": {
      "text/html": [
       "<div>\n",
       "<style scoped>\n",
       "    .dataframe tbody tr th:only-of-type {\n",
       "        vertical-align: middle;\n",
       "    }\n",
       "\n",
       "    .dataframe tbody tr th {\n",
       "        vertical-align: top;\n",
       "    }\n",
       "\n",
       "    .dataframe thead th {\n",
       "        text-align: right;\n",
       "    }\n",
       "</style>\n",
       "<table border=\"1\" class=\"dataframe\">\n",
       "  <thead>\n",
       "    <tr style=\"text-align: right;\">\n",
       "      <th></th>\n",
       "      <th>Word</th>\n",
       "      <th>Prob</th>\n",
       "      <th>Similarity</th>\n",
       "    </tr>\n",
       "  </thead>\n",
       "  <tbody>\n",
       "    <tr>\n",
       "      <th>1741</th>\n",
       "      <td>shot</td>\n",
       "      <td>0.000166</td>\n",
       "      <td>0.666667</td>\n",
       "    </tr>\n",
       "    <tr>\n",
       "      <th>3838</th>\n",
       "      <td>show</td>\n",
       "      <td>0.000144</td>\n",
       "      <td>0.666667</td>\n",
       "    </tr>\n",
       "    <tr>\n",
       "      <th>13585</th>\n",
       "      <td>shoe</td>\n",
       "      <td>0.000031</td>\n",
       "      <td>0.666667</td>\n",
       "    </tr>\n",
       "    <tr>\n",
       "      <th>16194</th>\n",
       "      <td>shop</td>\n",
       "      <td>0.000018</td>\n",
       "      <td>0.666667</td>\n",
       "    </tr>\n",
       "    <tr>\n",
       "      <th>5849</th>\n",
       "      <td>shod</td>\n",
       "      <td>0.000004</td>\n",
       "      <td>0.666667</td>\n",
       "    </tr>\n",
       "    <tr>\n",
       "      <th>1694</th>\n",
       "      <td>short</td>\n",
       "      <td>0.000269</td>\n",
       "      <td>0.500000</td>\n",
       "    </tr>\n",
       "    <tr>\n",
       "      <th>201</th>\n",
       "      <td>ho</td>\n",
       "      <td>0.000144</td>\n",
       "      <td>0.500000</td>\n",
       "    </tr>\n",
       "    <tr>\n",
       "      <th>125</th>\n",
       "      <td>shore</td>\n",
       "      <td>0.000117</td>\n",
       "      <td>0.500000</td>\n",
       "    </tr>\n",
       "    <tr>\n",
       "      <th>3729</th>\n",
       "      <td>shock</td>\n",
       "      <td>0.000067</td>\n",
       "      <td>0.500000</td>\n",
       "    </tr>\n",
       "    <tr>\n",
       "      <th>3786</th>\n",
       "      <td>shook</td>\n",
       "      <td>0.000058</td>\n",
       "      <td>0.500000</td>\n",
       "    </tr>\n",
       "  </tbody>\n",
       "</table>\n",
       "</div>"
      ],
      "text/plain": [
       "        Word      Prob  Similarity\n",
       "1741    shot  0.000166    0.666667\n",
       "3838    show  0.000144    0.666667\n",
       "13585   shoe  0.000031    0.666667\n",
       "16194   shop  0.000018    0.666667\n",
       "5849    shod  0.000004    0.666667\n",
       "1694   short  0.000269    0.500000\n",
       "201       ho  0.000144    0.500000\n",
       "125    shore  0.000117    0.500000\n",
       "3729   shock  0.000067    0.500000\n",
       "3786   shook  0.000058    0.500000"
      ]
     },
     "execution_count": 18,
     "metadata": {},
     "output_type": "execute_result"
    }
   ],
   "source": [
    "def autocorrect(word): \n",
    "    word = word.lower() \n",
    "    if word in prob:\n",
    "        print('the word is already there', word)\n",
    "    else:\n",
    "        similarities = [1-(textdistance.Jaccard(qval = 2)).distance(w,word) for w in word_freq_dict.keys()]\n",
    "        df = pd.DataFrame.from_dict(prob,orient='index').reset_index()\n",
    "        df = df.rename(columns={'index':'Word',0:'Prob'})\n",
    "        df['Similarity'] = similarities\n",
    "        output = df.sort_values(['Similarity','Prob'],ascending=False).head(10)\n",
    "        return(output)\n",
    "autocorrect('sho')"
   ]
  }
 ],
 "metadata": {
  "kernelspec": {
   "display_name": "Python 3 (ipykernel)",
   "language": "python",
   "name": "python3"
  },
  "language_info": {
   "codemirror_mode": {
    "name": "ipython",
    "version": 3
   },
   "file_extension": ".py",
   "mimetype": "text/x-python",
   "name": "python",
   "nbconvert_exporter": "python",
   "pygments_lexer": "ipython3",
   "version": "3.13.1"
  }
 },
 "nbformat": 4,
 "nbformat_minor": 5
}
